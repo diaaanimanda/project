{
  "nbformat": 4,
  "nbformat_minor": 0,
  "metadata": {
    "colab": {
      "name": "Submission_2_TimeSeries_DianKurniaImanda.ipynb",
      "provenance": [],
      "collapsed_sections": []
    },
    "kernelspec": {
      "name": "python3",
      "display_name": "Python 3"
    },
    "language_info": {
      "name": "python"
    }
  },
  "cells": [
    {
      "cell_type": "markdown",
      "metadata": {
        "id": "yTSRGo_WkKGc"
      },
      "source": [
        "Submission 2 Kelas Belajar Pengembangan Machine Learning <br>\n",
        "<b>Membuat Model Machine Learning dengan Data Time Series</b> <br>\n",
        "menggunakan dataset dari https://www.kaggle.com/jaganadhg/house-hold-energy-data <br>\n",
        "<hr>\n",
        "No. Registrasi: 0182180030-11 <br>\n",
        "Nama: Dian Kurnia Imanda <br>\n",
        "Email: diankurniaimanda@gmail.com"
      ]
    },
    {
      "cell_type": "code",
      "metadata": {
        "id": "D-4vuMG0wF-n"
      },
      "source": [
        "import numpy as np\n",
        "import pandas as pd\n",
        "import seaborn as sns\n",
        "from keras.layers import Dense, LSTM, Bidirectional\n",
        "import matplotlib.pyplot as plt\n",
        "import tensorflow as tf"
      ],
      "execution_count": 1,
      "outputs": []
    },
    {
      "cell_type": "code",
      "metadata": {
        "colab": {
          "base_uri": "https://localhost:8080/",
          "height": 419
        },
        "id": "rp3Qb8EPwVia",
        "outputId": "652cae59-d60b-4b58-9af9-f2b408b34757"
      },
      "source": [
        "df_train = pd.read_csv('D202.csv')\n",
        "df_train"
      ],
      "execution_count": 2,
      "outputs": [
        {
          "output_type": "execute_result",
          "data": {
            "text/html": [
              "<div>\n",
              "<style scoped>\n",
              "    .dataframe tbody tr th:only-of-type {\n",
              "        vertical-align: middle;\n",
              "    }\n",
              "\n",
              "    .dataframe tbody tr th {\n",
              "        vertical-align: top;\n",
              "    }\n",
              "\n",
              "    .dataframe thead th {\n",
              "        text-align: right;\n",
              "    }\n",
              "</style>\n",
              "<table border=\"1\" class=\"dataframe\">\n",
              "  <thead>\n",
              "    <tr style=\"text-align: right;\">\n",
              "      <th></th>\n",
              "      <th>TYPE</th>\n",
              "      <th>DATE</th>\n",
              "      <th>START TIME</th>\n",
              "      <th>END TIME</th>\n",
              "      <th>USAGE</th>\n",
              "      <th>UNITS</th>\n",
              "      <th>COST</th>\n",
              "      <th>NOTES</th>\n",
              "    </tr>\n",
              "  </thead>\n",
              "  <tbody>\n",
              "    <tr>\n",
              "      <th>0</th>\n",
              "      <td>Electric usage</td>\n",
              "      <td>10/22/2016</td>\n",
              "      <td>0:00</td>\n",
              "      <td>0:14</td>\n",
              "      <td>0.01</td>\n",
              "      <td>kWh</td>\n",
              "      <td>$0.00</td>\n",
              "      <td>NaN</td>\n",
              "    </tr>\n",
              "    <tr>\n",
              "      <th>1</th>\n",
              "      <td>Electric usage</td>\n",
              "      <td>10/22/2016</td>\n",
              "      <td>0:15</td>\n",
              "      <td>0:29</td>\n",
              "      <td>0.01</td>\n",
              "      <td>kWh</td>\n",
              "      <td>$0.00</td>\n",
              "      <td>NaN</td>\n",
              "    </tr>\n",
              "    <tr>\n",
              "      <th>2</th>\n",
              "      <td>Electric usage</td>\n",
              "      <td>10/22/2016</td>\n",
              "      <td>0:30</td>\n",
              "      <td>0:44</td>\n",
              "      <td>0.01</td>\n",
              "      <td>kWh</td>\n",
              "      <td>$0.00</td>\n",
              "      <td>NaN</td>\n",
              "    </tr>\n",
              "    <tr>\n",
              "      <th>3</th>\n",
              "      <td>Electric usage</td>\n",
              "      <td>10/22/2016</td>\n",
              "      <td>0:45</td>\n",
              "      <td>0:59</td>\n",
              "      <td>0.01</td>\n",
              "      <td>kWh</td>\n",
              "      <td>$0.00</td>\n",
              "      <td>NaN</td>\n",
              "    </tr>\n",
              "    <tr>\n",
              "      <th>4</th>\n",
              "      <td>Electric usage</td>\n",
              "      <td>10/22/2016</td>\n",
              "      <td>1:00</td>\n",
              "      <td>1:14</td>\n",
              "      <td>0.01</td>\n",
              "      <td>kWh</td>\n",
              "      <td>$0.00</td>\n",
              "      <td>NaN</td>\n",
              "    </tr>\n",
              "    <tr>\n",
              "      <th>...</th>\n",
              "      <td>...</td>\n",
              "      <td>...</td>\n",
              "      <td>...</td>\n",
              "      <td>...</td>\n",
              "      <td>...</td>\n",
              "      <td>...</td>\n",
              "      <td>...</td>\n",
              "      <td>...</td>\n",
              "    </tr>\n",
              "    <tr>\n",
              "      <th>70363</th>\n",
              "      <td>Electric usage</td>\n",
              "      <td>10/24/2018</td>\n",
              "      <td>22:45</td>\n",
              "      <td>22:59</td>\n",
              "      <td>0.02</td>\n",
              "      <td>kWh</td>\n",
              "      <td>$0.00</td>\n",
              "      <td>NaN</td>\n",
              "    </tr>\n",
              "    <tr>\n",
              "      <th>70364</th>\n",
              "      <td>Electric usage</td>\n",
              "      <td>10/24/2018</td>\n",
              "      <td>23:00</td>\n",
              "      <td>23:14</td>\n",
              "      <td>0.03</td>\n",
              "      <td>kWh</td>\n",
              "      <td>$0.01</td>\n",
              "      <td>NaN</td>\n",
              "    </tr>\n",
              "    <tr>\n",
              "      <th>70365</th>\n",
              "      <td>Electric usage</td>\n",
              "      <td>10/24/2018</td>\n",
              "      <td>23:15</td>\n",
              "      <td>23:29</td>\n",
              "      <td>0.03</td>\n",
              "      <td>kWh</td>\n",
              "      <td>$0.01</td>\n",
              "      <td>NaN</td>\n",
              "    </tr>\n",
              "    <tr>\n",
              "      <th>70366</th>\n",
              "      <td>Electric usage</td>\n",
              "      <td>10/24/2018</td>\n",
              "      <td>23:30</td>\n",
              "      <td>23:44</td>\n",
              "      <td>0.03</td>\n",
              "      <td>kWh</td>\n",
              "      <td>$0.01</td>\n",
              "      <td>NaN</td>\n",
              "    </tr>\n",
              "    <tr>\n",
              "      <th>70367</th>\n",
              "      <td>Electric usage</td>\n",
              "      <td>10/24/2018</td>\n",
              "      <td>23:45</td>\n",
              "      <td>23:59</td>\n",
              "      <td>0.03</td>\n",
              "      <td>kWh</td>\n",
              "      <td>$0.01</td>\n",
              "      <td>NaN</td>\n",
              "    </tr>\n",
              "  </tbody>\n",
              "</table>\n",
              "<p>70368 rows × 8 columns</p>\n",
              "</div>"
            ],
            "text/plain": [
              "                 TYPE        DATE START TIME  ... UNITS    COST NOTES\n",
              "0      Electric usage  10/22/2016       0:00  ...   kWh  $0.00    NaN\n",
              "1      Electric usage  10/22/2016       0:15  ...   kWh  $0.00    NaN\n",
              "2      Electric usage  10/22/2016       0:30  ...   kWh  $0.00    NaN\n",
              "3      Electric usage  10/22/2016       0:45  ...   kWh  $0.00    NaN\n",
              "4      Electric usage  10/22/2016       1:00  ...   kWh  $0.00    NaN\n",
              "...               ...         ...        ...  ...   ...     ...   ...\n",
              "70363  Electric usage  10/24/2018      22:45  ...   kWh  $0.00    NaN\n",
              "70364  Electric usage  10/24/2018      23:00  ...   kWh  $0.01    NaN\n",
              "70365  Electric usage  10/24/2018      23:15  ...   kWh  $0.01    NaN\n",
              "70366  Electric usage  10/24/2018      23:30  ...   kWh  $0.01    NaN\n",
              "70367  Electric usage  10/24/2018      23:45  ...   kWh  $0.01    NaN\n",
              "\n",
              "[70368 rows x 8 columns]"
            ]
          },
          "metadata": {
            "tags": []
          },
          "execution_count": 2
        }
      ]
    },
    {
      "cell_type": "code",
      "metadata": {
        "colab": {
          "base_uri": "https://localhost:8080/"
        },
        "id": "OhHQAn07B6YV",
        "outputId": "23ef1790-b013-4083-f927-b29e98140a32"
      },
      "source": [
        "df_train.dropna(axis=1, inplace=True)\n",
        "df_train.info()"
      ],
      "execution_count": 3,
      "outputs": [
        {
          "output_type": "stream",
          "text": [
            "<class 'pandas.core.frame.DataFrame'>\n",
            "RangeIndex: 70368 entries, 0 to 70367\n",
            "Data columns (total 7 columns):\n",
            " #   Column      Non-Null Count  Dtype  \n",
            "---  ------      --------------  -----  \n",
            " 0   TYPE        70368 non-null  object \n",
            " 1   DATE        70368 non-null  object \n",
            " 2   START TIME  70368 non-null  object \n",
            " 3   END TIME    70368 non-null  object \n",
            " 4   USAGE       70368 non-null  float64\n",
            " 5   UNITS       70368 non-null  object \n",
            " 6   COST        70368 non-null  object \n",
            "dtypes: float64(1), object(6)\n",
            "memory usage: 3.8+ MB\n"
          ],
          "name": "stdout"
        }
      ]
    },
    {
      "cell_type": "code",
      "metadata": {
        "colab": {
          "base_uri": "https://localhost:8080/"
        },
        "id": "YrQQThU7wWaz",
        "outputId": "993cc56c-05fa-4092-811a-4f5f4c681059"
      },
      "source": [
        "# cek apakah ada nilai yang hilang dari dataset \n",
        "df_train.isnull().sum()"
      ],
      "execution_count": 4,
      "outputs": [
        {
          "output_type": "execute_result",
          "data": {
            "text/plain": [
              "TYPE          0\n",
              "DATE          0\n",
              "START TIME    0\n",
              "END TIME      0\n",
              "USAGE         0\n",
              "UNITS         0\n",
              "COST          0\n",
              "dtype: int64"
            ]
          },
          "metadata": {
            "tags": []
          },
          "execution_count": 4
        }
      ]
    },
    {
      "cell_type": "code",
      "metadata": {
        "colab": {
          "base_uri": "https://localhost:8080/",
          "height": 589
        },
        "id": "6QzFSelLZYe5",
        "outputId": "9365de19-9c26-4d82-cb57-91e25cf19416"
      },
      "source": [
        "df_train['START'] = pd.to_datetime(df_train['DATE']+ ' '+df_train['START TIME'], format='%m/%d/%Y %H:%M')\n",
        "df_train['END'] = pd.to_datetime(df_train['DATE']+ ' '+df_train['END TIME'], format='%m/%d/%Y %H:%M')\n",
        "\n",
        "# in pandas axis=0 represents rows (default) and axis=1 represents columns.\n",
        "df_train.drop(['TYPE', 'UNITS', 'DATE', 'START TIME', 'END TIME'], axis=1, inplace=True) # Remove the unnecessary\n",
        "\n",
        "df_train['year'] = df_train.apply(lambda x:x['START'].year, axis=1)\n",
        "df_train['month'] = df_train.apply(lambda x:x['START'].month, axis=1)\n",
        "df_train['day'] = df_train.apply(lambda x:x['START'].day, axis=1)\n",
        "df_train['hour'] = df_train.apply(lambda x:x['START'].hour, axis=1)\n",
        "\n",
        "df_train['COST'] = df_train['COST'].apply(lambda x:float(x[1:]))\n",
        "\n",
        "df_train['duration'] = (df_train['END'] - df_train['START'])\n",
        "df_train"
      ],
      "execution_count": 5,
      "outputs": [
        {
          "output_type": "execute_result",
          "data": {
            "text/html": [
              "<div>\n",
              "<style scoped>\n",
              "    .dataframe tbody tr th:only-of-type {\n",
              "        vertical-align: middle;\n",
              "    }\n",
              "\n",
              "    .dataframe tbody tr th {\n",
              "        vertical-align: top;\n",
              "    }\n",
              "\n",
              "    .dataframe thead th {\n",
              "        text-align: right;\n",
              "    }\n",
              "</style>\n",
              "<table border=\"1\" class=\"dataframe\">\n",
              "  <thead>\n",
              "    <tr style=\"text-align: right;\">\n",
              "      <th></th>\n",
              "      <th>USAGE</th>\n",
              "      <th>COST</th>\n",
              "      <th>START</th>\n",
              "      <th>END</th>\n",
              "      <th>year</th>\n",
              "      <th>month</th>\n",
              "      <th>day</th>\n",
              "      <th>hour</th>\n",
              "      <th>duration</th>\n",
              "    </tr>\n",
              "  </thead>\n",
              "  <tbody>\n",
              "    <tr>\n",
              "      <th>0</th>\n",
              "      <td>0.01</td>\n",
              "      <td>0.00</td>\n",
              "      <td>2016-10-22 00:00:00</td>\n",
              "      <td>2016-10-22 00:14:00</td>\n",
              "      <td>2016</td>\n",
              "      <td>10</td>\n",
              "      <td>22</td>\n",
              "      <td>0</td>\n",
              "      <td>0 days 00:14:00</td>\n",
              "    </tr>\n",
              "    <tr>\n",
              "      <th>1</th>\n",
              "      <td>0.01</td>\n",
              "      <td>0.00</td>\n",
              "      <td>2016-10-22 00:15:00</td>\n",
              "      <td>2016-10-22 00:29:00</td>\n",
              "      <td>2016</td>\n",
              "      <td>10</td>\n",
              "      <td>22</td>\n",
              "      <td>0</td>\n",
              "      <td>0 days 00:14:00</td>\n",
              "    </tr>\n",
              "    <tr>\n",
              "      <th>2</th>\n",
              "      <td>0.01</td>\n",
              "      <td>0.00</td>\n",
              "      <td>2016-10-22 00:30:00</td>\n",
              "      <td>2016-10-22 00:44:00</td>\n",
              "      <td>2016</td>\n",
              "      <td>10</td>\n",
              "      <td>22</td>\n",
              "      <td>0</td>\n",
              "      <td>0 days 00:14:00</td>\n",
              "    </tr>\n",
              "    <tr>\n",
              "      <th>3</th>\n",
              "      <td>0.01</td>\n",
              "      <td>0.00</td>\n",
              "      <td>2016-10-22 00:45:00</td>\n",
              "      <td>2016-10-22 00:59:00</td>\n",
              "      <td>2016</td>\n",
              "      <td>10</td>\n",
              "      <td>22</td>\n",
              "      <td>0</td>\n",
              "      <td>0 days 00:14:00</td>\n",
              "    </tr>\n",
              "    <tr>\n",
              "      <th>4</th>\n",
              "      <td>0.01</td>\n",
              "      <td>0.00</td>\n",
              "      <td>2016-10-22 01:00:00</td>\n",
              "      <td>2016-10-22 01:14:00</td>\n",
              "      <td>2016</td>\n",
              "      <td>10</td>\n",
              "      <td>22</td>\n",
              "      <td>1</td>\n",
              "      <td>0 days 00:14:00</td>\n",
              "    </tr>\n",
              "    <tr>\n",
              "      <th>...</th>\n",
              "      <td>...</td>\n",
              "      <td>...</td>\n",
              "      <td>...</td>\n",
              "      <td>...</td>\n",
              "      <td>...</td>\n",
              "      <td>...</td>\n",
              "      <td>...</td>\n",
              "      <td>...</td>\n",
              "      <td>...</td>\n",
              "    </tr>\n",
              "    <tr>\n",
              "      <th>70363</th>\n",
              "      <td>0.02</td>\n",
              "      <td>0.00</td>\n",
              "      <td>2018-10-24 22:45:00</td>\n",
              "      <td>2018-10-24 22:59:00</td>\n",
              "      <td>2018</td>\n",
              "      <td>10</td>\n",
              "      <td>24</td>\n",
              "      <td>22</td>\n",
              "      <td>0 days 00:14:00</td>\n",
              "    </tr>\n",
              "    <tr>\n",
              "      <th>70364</th>\n",
              "      <td>0.03</td>\n",
              "      <td>0.01</td>\n",
              "      <td>2018-10-24 23:00:00</td>\n",
              "      <td>2018-10-24 23:14:00</td>\n",
              "      <td>2018</td>\n",
              "      <td>10</td>\n",
              "      <td>24</td>\n",
              "      <td>23</td>\n",
              "      <td>0 days 00:14:00</td>\n",
              "    </tr>\n",
              "    <tr>\n",
              "      <th>70365</th>\n",
              "      <td>0.03</td>\n",
              "      <td>0.01</td>\n",
              "      <td>2018-10-24 23:15:00</td>\n",
              "      <td>2018-10-24 23:29:00</td>\n",
              "      <td>2018</td>\n",
              "      <td>10</td>\n",
              "      <td>24</td>\n",
              "      <td>23</td>\n",
              "      <td>0 days 00:14:00</td>\n",
              "    </tr>\n",
              "    <tr>\n",
              "      <th>70366</th>\n",
              "      <td>0.03</td>\n",
              "      <td>0.01</td>\n",
              "      <td>2018-10-24 23:30:00</td>\n",
              "      <td>2018-10-24 23:44:00</td>\n",
              "      <td>2018</td>\n",
              "      <td>10</td>\n",
              "      <td>24</td>\n",
              "      <td>23</td>\n",
              "      <td>0 days 00:14:00</td>\n",
              "    </tr>\n",
              "    <tr>\n",
              "      <th>70367</th>\n",
              "      <td>0.03</td>\n",
              "      <td>0.01</td>\n",
              "      <td>2018-10-24 23:45:00</td>\n",
              "      <td>2018-10-24 23:59:00</td>\n",
              "      <td>2018</td>\n",
              "      <td>10</td>\n",
              "      <td>24</td>\n",
              "      <td>23</td>\n",
              "      <td>0 days 00:14:00</td>\n",
              "    </tr>\n",
              "  </tbody>\n",
              "</table>\n",
              "<p>70368 rows × 9 columns</p>\n",
              "</div>"
            ],
            "text/plain": [
              "       USAGE  COST               START  ... day  hour        duration\n",
              "0       0.01  0.00 2016-10-22 00:00:00  ...  22     0 0 days 00:14:00\n",
              "1       0.01  0.00 2016-10-22 00:15:00  ...  22     0 0 days 00:14:00\n",
              "2       0.01  0.00 2016-10-22 00:30:00  ...  22     0 0 days 00:14:00\n",
              "3       0.01  0.00 2016-10-22 00:45:00  ...  22     0 0 days 00:14:00\n",
              "4       0.01  0.00 2016-10-22 01:00:00  ...  22     1 0 days 00:14:00\n",
              "...      ...   ...                 ...  ...  ..   ...             ...\n",
              "70363   0.02  0.00 2018-10-24 22:45:00  ...  24    22 0 days 00:14:00\n",
              "70364   0.03  0.01 2018-10-24 23:00:00  ...  24    23 0 days 00:14:00\n",
              "70365   0.03  0.01 2018-10-24 23:15:00  ...  24    23 0 days 00:14:00\n",
              "70366   0.03  0.01 2018-10-24 23:30:00  ...  24    23 0 days 00:14:00\n",
              "70367   0.03  0.01 2018-10-24 23:45:00  ...  24    23 0 days 00:14:00\n",
              "\n",
              "[70368 rows x 9 columns]"
            ]
          },
          "metadata": {
            "tags": []
          },
          "execution_count": 5
        }
      ]
    },
    {
      "cell_type": "code",
      "metadata": {
        "id": "sjbVkFyAwWjO"
      },
      "source": [
        "dates = df_train['START'].values #year\n",
        "temp  = df_train['USAGE'].values"
      ],
      "execution_count": 6,
      "outputs": []
    },
    {
      "cell_type": "code",
      "metadata": {
        "id": "lMxytep_zL3C"
      },
      "source": [
        "# bagi data training dan testing\n",
        "from sklearn.model_selection import train_test_split\n",
        "x_train, x_test, y_train, y_test = train_test_split(temp, dates, test_size=0.2, random_state=0, shuffle=False)\n",
        "\n",
        "x_train = x_train.astype(np.float32)\n",
        "x_test = x_test.astype(np.float32)\n",
        "y_train = y_train.astype(np.float32)\n",
        "y_test = y_test.astype(np.float32)\n"
      ],
      "execution_count": 7,
      "outputs": []
    },
    {
      "cell_type": "code",
      "metadata": {
        "id": "d27I-qRF0Tpt",
        "colab": {
          "base_uri": "https://localhost:8080/",
          "height": 194
        },
        "outputId": "b6c572fe-a4a8-4515-9e84-329835ef70d0"
      },
      "source": [
        "# time series random\n",
        "plt.figure(figsize=(20,5))\n",
        "plt.plot(dates, temp)\n",
        "plt.title('Household Energy',\n",
        "          fontsize=20);"
      ],
      "execution_count": 8,
      "outputs": [
        {
          "output_type": "display_data",
          "data": {
            "image/png": "[encoded data removed]",
            "text/plain": [
              "<Figure size 1440x360 with 1 Axes>"
            ]
          },
          "metadata": {
            "tags": [],
            "needs_background": "light"
          }
        }
      ]
    },
    {
      "cell_type": "code",
      "metadata": {
        "id": "Ev8o6jNgtjTc",
        "colab": {
          "base_uri": "https://localhost:8080/"
        },
        "outputId": "1457062a-6480-4c1c-e082-02f1bd549212"
      },
      "source": [
        "print(max(temp), min(temp))"
      ],
      "execution_count": 9,
      "outputs": [
        {
          "output_type": "stream",
          "text": [
            "2.36 0.0\n"
          ],
          "name": "stdout"
        }
      ]
    },
    {
      "cell_type": "code",
      "metadata": {
        "id": "3__J6zc-wWq-"
      },
      "source": [
        "# menerima sebuah series/atribut yg telah di konversi jadi tipe numpy,\n",
        "# lalu mengembalikan label dan atribut dari dataset dalam bentuk batch.\n",
        "\n",
        "def windowed_dataset(series, window_size, batch_size, shuffle_buffer):\n",
        "    series = tf.expand_dims(series, axis=-1)\n",
        "    ds = tf.data.Dataset.from_tensor_slices(series)\n",
        "    ds = ds.window(window_size + 1, shift=1, drop_remainder=True)\n",
        "    ds = ds.flat_map(lambda w: w.batch(window_size + 1))\n",
        "    ds = ds.shuffle(shuffle_buffer)\n",
        "    ds = ds.map(lambda w: (w[:-1], w[-1:]))\n",
        "    return ds.batch(batch_size).prefetch(1)\n",
        "\n",
        "train_set = windowed_dataset(x_train, window_size=60, batch_size=100, shuffle_buffer=1000)\n",
        "val_set = windowed_dataset(x_test, window_size=60, batch_size=100, shuffle_buffer=5000)\n",
        "#train_set = windowed_dataset(temp, window_size=60, batch_size=100, shuffle_buffer=1000)\n",
        "#val_set = windowed_dataset(temp, window_size=60, batch_size=100, shuffle_buffer=5000)"
      ],
      "execution_count": 10,
      "outputs": []
    },
    {
      "cell_type": "code",
      "metadata": {
        "id": "dcoOiZHhwWyQ"
      },
      "source": [
        "# arsitektur model\n",
        "\n",
        "model = tf.keras.models.Sequential([\n",
        "  tf.keras.layers.Bidirectional(tf.keras.layers.LSTM(60, return_sequences=True)),\n",
        "  tf.keras.layers.Bidirectional(tf.keras.layers.LSTM(60)),\n",
        "  tf.keras.layers.Dense(30, activation=\"relu\"),\n",
        "  tf.keras.layers.Dropout(0.5),\n",
        "  tf.keras.layers.Dense(10, activation=\"relu\"),\n",
        "  tf.keras.layers.Dense(1),\n",
        "])"
      ],
      "execution_count": 11,
      "outputs": []
    },
    {
      "cell_type": "code",
      "metadata": {
        "id": "ghMNbfPywqXJ",
        "colab": {
          "base_uri": "https://localhost:8080/"
        },
        "outputId": "d5b500ae-2ad6-4636-b870-4b3861088e7a"
      },
      "source": [
        "# 10% skala data\n",
        "max_mae = (max(temp) - min(temp)) * 0.1\n",
        "print(max_mae) \n",
        "\n",
        "class TestCallback(tf.keras.callbacks.Callback):\n",
        "    def on_epoch_end(self, epoch, logs={}):\n",
        "        if (logs.get('mae') < max_mae):\n",
        "            print('\\nMAE kurang dari 10%')\n",
        "            self.model.stop_training=True\n",
        "callbacks = TestCallback()"
      ],
      "execution_count": 12,
      "outputs": [
        {
          "output_type": "stream",
          "text": [
            "0.236\n"
          ],
          "name": "stdout"
        }
      ]
    },
    {
      "cell_type": "code",
      "metadata": {
        "id": "iKK1MLfNwW4y",
        "colab": {
          "base_uri": "https://localhost:8080/"
        },
        "outputId": "e1580dd3-53d0-4531-edf5-b356cb0e161f"
      },
      "source": [
        "optimizer = tf.keras.optimizers.SGD(learning_rate=1.0000e-04, momentum=0.9) # learning rate dan momentum\n",
        "model.compile(loss=tf.keras.losses.Huber(), # Huber utk time series\n",
        "              optimizer=optimizer,\n",
        "              metrics=[\"mae\"])\n",
        "\n",
        "history = model.fit(\n",
        "    train_set,\n",
        "    validation_data=val_set,\n",
        "    #validation_split=0.2,\n",
        "    epochs=10,\n",
        "    verbose=2,\n",
        "    batch_size=16,\n",
        "    callbacks= [callbacks])\n",
        "\n",
        "#history = model.fit(train_set, batch_size=16, epochs=100, verbose=2, callbacks= [callbacks])"
      ],
      "execution_count": 13,
      "outputs": [
        {
          "output_type": "stream",
          "text": [
            "Epoch 1/10\n",
            "563/563 - 137s - loss: 0.0289 - mae: 0.1062 - val_loss: 0.0057 - val_mae: 0.0623\n",
            "\n",
            "MAE kurang dari 10%\n"
          ],
          "name": "stdout"
        }
      ]
    },
    {
      "cell_type": "code",
      "metadata": {
        "id": "PExAKgsxxMLC",
        "colab": {
          "base_uri": "https://localhost:8080/",
          "height": 683
        },
        "outputId": "f4b2c320-71b8-4116-89d3-d54f5f445d61"
      },
      "source": [
        "mae = history.history['mae']\n",
        "val_mae = history.history['val_mae']\n",
        "loss = history.history['loss']\n",
        "val_loss = history.history['val_loss']\n",
        "\n",
        "epochs_range = range(len(mae))\n",
        "\n",
        "plt.figure(figsize=(8,5))\n",
        "plt.plot(epochs_range, mae, 'r', label='Training MAE')\n",
        "plt.plot(epochs_range, val_mae, 'b', label='Validation MAE')\n",
        "plt.xlabel('epoch')\n",
        "plt.ylabel('mae')\n",
        "plt.title('Training and Validation MAE')\n",
        "plt.legend(loc='upper left')\n",
        "plt.show()\n",
        "\n",
        "plt.figure(figsize=(8,5))\n",
        "plt.plot(epochs_range, loss, 'r', label='Training Loss')\n",
        "plt.plot(epochs_range, val_loss, 'b', label='Validation Loss')\n",
        "plt.xlabel('epoch')\n",
        "plt.ylabel('accuracy')\n",
        "plt.title('Training and Validation Loss')\n",
        "plt.legend(loc='upper left')\n",
        "plt.show()"
      ],
      "execution_count": 14,
      "outputs": [
        {
          "output_type": "display_data",
          "data": {
            "image/png": "[encoded data removed]",
            "text/plain": [
              "<Figure size 576x360 with 1 Axes>"
            ]
          },
          "metadata": {
            "tags": [],
            "needs_background": "light"
          }
        },
        {
          "output_type": "display_data",
          "data": {
            "image/png": "[encoded data removed]",
            "text/plain": [
              "<Figure size 576x360 with 1 Axes>"
            ]
          },
          "metadata": {
            "tags": [],
            "needs_background": "light"
          }
        }
      ]
    }
  ]
}